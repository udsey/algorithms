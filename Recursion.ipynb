{
  "nbformat": 4,
  "nbformat_minor": 0,
  "metadata": {
    "colab": {
      "name": "Recursion.ipynb",
      "provenance": [],
      "authorship_tag": "ABX9TyMphGDRyK1K3bCPy84CtsAu",
      "include_colab_link": true
    },
    "kernelspec": {
      "name": "python3",
      "display_name": "Python 3"
    },
    "language_info": {
      "name": "python"
    }
  },
  "cells": [
    {
      "cell_type": "markdown",
      "metadata": {
        "id": "view-in-github",
        "colab_type": "text"
      },
      "source": [
        "<a href=\"https://colab.research.google.com/github/udsey/algorithms/blob/main/Recursion.ipynb\" target=\"_parent\"><img src=\"https://colab.research.google.com/assets/colab-badge.svg\" alt=\"Open In Colab\"/></a>"
      ]
    },
    {
      "cell_type": "code",
      "source": [
        "def fact(x):\n",
        "    if x == 1:\n",
        "        return 1\n",
        "    else:\n",
        "        return x * fact(x-1)\n",
        "\n",
        "fact(5)"
      ],
      "metadata": {
        "id": "_rFi6j8rrJH1",
        "colab": {
          "base_uri": "https://localhost:8080/"
        },
        "outputId": "293344b3-2dc1-477f-ddcc-fcd95fb5b8c7"
      },
      "execution_count": 5,
      "outputs": [
        {
          "output_type": "execute_result",
          "data": {
            "text/plain": [
              "120"
            ]
          },
          "metadata": {},
          "execution_count": 5
        }
      ]
    },
    {
      "cell_type": "code",
      "source": [
        "def sum_recur(l):\n",
        "    if len(l) <= 1:\n",
        "        return l\n",
        "    else:\n",
        "        return l[0] + sum_rec(l[1:])\n",
        "        \n",
        "sum_rec([1])"
      ],
      "metadata": {
        "colab": {
          "base_uri": "https://localhost:8080/"
        },
        "id": "c6P0wVpUrJKa",
        "outputId": "8bc068f4-b56d-47e6-c78a-e53457adf3a7"
      },
      "execution_count": 57,
      "outputs": [
        {
          "output_type": "execute_result",
          "data": {
            "text/plain": [
              "[1]"
            ]
          },
          "metadata": {},
          "execution_count": 57
        }
      ]
    },
    {
      "cell_type": "code",
      "source": [
        "def el_calc_recur(l):\n",
        "    if len(l) == 0:\n",
        "        return 0\n",
        "    else:\n",
        "        return 1 + el_calc_recur(l[1:])\n",
        "el_calc_recur([1, 2])"
      ],
      "metadata": {
        "colab": {
          "base_uri": "https://localhost:8080/"
        },
        "id": "ilzbVxszrJNQ",
        "outputId": "0a850f15-c2aa-486f-8d73-61411a65a694"
      },
      "execution_count": 53,
      "outputs": [
        {
          "output_type": "execute_result",
          "data": {
            "text/plain": [
              "2"
            ]
          },
          "metadata": {},
          "execution_count": 53
        }
      ]
    },
    {
      "cell_type": "code",
      "source": [
        "def find_max(l):\n",
        "    if len(l) == 2:\n",
        "        return l[0] if l[0] > l[1] else l[1] \n",
        "    else:\n",
        "        sub_max = find_max(l[1:])\n",
        "        return l[0] if l[0] > sub_max else sub_max\n",
        "\n",
        "find_max([-1, 23, 2 -22])"
      ],
      "metadata": {
        "colab": {
          "base_uri": "https://localhost:8080/"
        },
        "id": "hteGmVnQBbBw",
        "outputId": "b84d3e70-59f3-48b8-afff-63cd000f16f3"
      },
      "execution_count": 60,
      "outputs": [
        {
          "output_type": "execute_result",
          "data": {
            "text/plain": [
              "23"
            ]
          },
          "metadata": {},
          "execution_count": 60
        }
      ]
    },
    {
      "cell_type": "code",
      "source": [
        "def bin_search(a, b, n):\n",
        "    x = (a + b)// 2\n",
        "    if x == n:\n",
        "        return n\n",
        "    else:\n",
        "        return bin_search(a, x, n) if n < x else bin_search(x, b, n)\n",
        "bin_search(1, 1000, 33)"
      ],
      "metadata": {
        "colab": {
          "base_uri": "https://localhost:8080/"
        },
        "id": "MIF3xTlMC38K",
        "outputId": "bea195ad-dd0a-4e57-930e-f8cbfdb6509a"
      },
      "execution_count": 73,
      "outputs": [
        {
          "output_type": "stream",
          "name": "stdout",
          "text": [
            "CPU times: user 3 µs, sys: 0 ns, total: 3 µs\n",
            "Wall time: 6.68 µs\n"
          ]
        },
        {
          "output_type": "execute_result",
          "data": {
            "text/plain": [
              "33"
            ]
          },
          "metadata": {},
          "execution_count": 73
        }
      ]
    }
  ]
}