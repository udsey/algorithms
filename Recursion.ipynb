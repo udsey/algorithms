{
  "nbformat": 4,
  "nbformat_minor": 0,
  "metadata": {
    "colab": {
      "name": "Recursion.ipynb",
      "provenance": [],
      "authorship_tag": "ABX9TyPIL6sRB6pqbgeSx/gEycxN",
      "include_colab_link": true
    },
    "kernelspec": {
      "name": "python3",
      "display_name": "Python 3"
    },
    "language_info": {
      "name": "python"
    }
  },
  "cells": [
    {
      "cell_type": "markdown",
      "metadata": {
        "id": "view-in-github",
        "colab_type": "text"
      },
      "source": [
        "<a href=\"https://colab.research.google.com/github/udsey/algorithms/blob/main/Recursion.ipynb\" target=\"_parent\"><img src=\"https://colab.research.google.com/assets/colab-badge.svg\" alt=\"Open In Colab\"/></a>"
      ]
    },
    {
      "cell_type": "code",
      "source": [
        "def fact(x):\n",
        "    if x == 1:\n",
        "        return 1\n",
        "    else:\n",
        "        return x * fact(x-1)\n",
        "\n",
        "fact(5)"
      ],
      "metadata": {
        "id": "_rFi6j8rrJH1",
        "colab": {
          "base_uri": "https://localhost:8080/"
        },
        "outputId": "293344b3-2dc1-477f-ddcc-fcd95fb5b8c7"
      },
      "execution_count": 5,
      "outputs": [
        {
          "output_type": "execute_result",
          "data": {
            "text/plain": [
              "120"
            ]
          },
          "metadata": {},
          "execution_count": 5
        }
      ]
    },
    {
      "cell_type": "code",
      "source": [
        "def sum_recur(l):\n",
        "    if len(l) <= 1:\n",
        "        return l\n",
        "    else:\n",
        "        return l[0] + sum_rec(l[1:])\n",
        "        \n",
        "sum_rec([1])"
      ],
      "metadata": {
        "colab": {
          "base_uri": "https://localhost:8080/"
        },
        "id": "c6P0wVpUrJKa",
        "outputId": "8bc068f4-b56d-47e6-c78a-e53457adf3a7"
      },
      "execution_count": 57,
      "outputs": [
        {
          "output_type": "execute_result",
          "data": {
            "text/plain": [
              "[1]"
            ]
          },
          "metadata": {},
          "execution_count": 57
        }
      ]
    },
    {
      "cell_type": "code",
      "source": [
        "def el_calc_recur(l):\n",
        "    if len(l) == 0:\n",
        "        return 0\n",
        "    else:\n",
        "        return 1 + el_calc_recur(l[1:])\n",
        "el_calc_recur([1, 2])"
      ],
      "metadata": {
        "colab": {
          "base_uri": "https://localhost:8080/"
        },
        "id": "ilzbVxszrJNQ",
        "outputId": "0a850f15-c2aa-486f-8d73-61411a65a694"
      },
      "execution_count": 53,
      "outputs": [
        {
          "output_type": "execute_result",
          "data": {
            "text/plain": [
              "2"
            ]
          },
          "metadata": {},
          "execution_count": 53
        }
      ]
    },
    {
      "cell_type": "code",
      "source": [
        "def find_max(l):\n",
        "    if len(l) == 2:\n",
        "        return l[0] if l[0] > l[1] else l[1] \n",
        "    else:\n",
        "        sub_max = find_max(l[1:])\n",
        "        return l[0] if l[0] > sub_max else sub_max\n",
        "\n",
        "find_max([-1, 23, 2 -22])"
      ],
      "metadata": {
        "colab": {
          "base_uri": "https://localhost:8080/"
        },
        "id": "hteGmVnQBbBw",
        "outputId": "b84d3e70-59f3-48b8-afff-63cd000f16f3"
      },
      "execution_count": 60,
      "outputs": [
        {
          "output_type": "execute_result",
          "data": {
            "text/plain": [
              "23"
            ]
          },
          "metadata": {},
          "execution_count": 60
        }
      ]
    },
    {
      "cell_type": "code",
      "source": [
        "% time\n",
        "def bin_search(a, b, n):\n",
        "    x = (a + b)// 2\n",
        "    if x == n:\n",
        "        return n\n",
        "    else:\n",
        "        return bin_search(a, x, n) if n < x else bin_search(x, b, n)\n",
        "bin_search(1, 100000000000000000000000000000000000000000000, 2)"
      ],
      "metadata": {
        "colab": {
          "base_uri": "https://localhost:8080/"
        },
        "id": "MIF3xTlMC38K",
        "outputId": "a1a02019-9432-49f8-ad9c-19003a259a29"
      },
      "execution_count": 92,
      "outputs": [
        {
          "output_type": "stream",
          "name": "stdout",
          "text": [
            "CPU times: user 3 µs, sys: 1e+03 ns, total: 4 µs\n",
            "Wall time: 7.87 µs\n"
          ]
        },
        {
          "output_type": "execute_result",
          "data": {
            "text/plain": [
              "2"
            ]
          },
          "metadata": {},
          "execution_count": 92
        }
      ]
    },
    {
      "cell_type": "code",
      "source": [
        "def return_min_max_l(l, base):\n",
        "    a = []\n",
        "    b = []\n",
        "    for i in l[1:]:\n",
        "        if i < base:\n",
        "            a.append(i)\n",
        "        else:\n",
        "            b.append(i)\n",
        "    return a, b\n",
        "\n",
        "def qsort(l):\n",
        "    if len(l) < 2:\n",
        "        return l\n",
        "    else:\n",
        "        base = l[0]\n",
        "        a, b = return_min_max_l(l, base)\n",
        "        return qsort(a) + [base] + qsort(b)\n",
        "\n",
        "qsort([1, 3, 13, -1, 12, 100, 10])"
      ],
      "metadata": {
        "colab": {
          "base_uri": "https://localhost:8080/"
        },
        "id": "l1glalDdL91x",
        "outputId": "a73284e6-8bee-4366-a6bc-f68277a1805d"
      },
      "execution_count": 96,
      "outputs": [
        {
          "output_type": "execute_result",
          "data": {
            "text/plain": [
              "[-1, 1, 3, 10, 12, 13, 100]"
            ]
          },
          "metadata": {},
          "execution_count": 96
        }
      ]
    }
  ]
}